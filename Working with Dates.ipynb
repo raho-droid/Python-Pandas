{
 "cells": [
  {
   "cell_type": "code",
   "execution_count": 1,
   "id": "50705f6e",
   "metadata": {},
   "outputs": [],
   "source": [
    "import pandas as pd\n",
    "import datetime as dt"
   ]
  },
  {
   "cell_type": "code",
   "execution_count": 5,
   "id": "64af37cc",
   "metadata": {},
   "outputs": [],
   "source": [
    "someday = dt.date(2023,4,2)"
   ]
  },
  {
   "cell_type": "code",
   "execution_count": 6,
   "id": "b445b174",
   "metadata": {},
   "outputs": [
    {
     "data": {
      "text/plain": [
       "Timestamp('2015-03-04 00:00:00')"
      ]
     },
     "execution_count": 6,
     "metadata": {},
     "output_type": "execute_result"
    }
   ],
   "source": [
    "pd.Timestamp(\"2015, 3, 4\")"
   ]
  },
  {
   "cell_type": "code",
   "execution_count": 11,
   "id": "d9756854",
   "metadata": {},
   "outputs": [],
   "source": [
    "times = pd.Series([\"2001-06-30\", \"2006/06/22\"])"
   ]
  },
  {
   "cell_type": "code",
   "execution_count": 12,
   "id": "e66efa94",
   "metadata": {},
   "outputs": [
    {
     "data": {
      "text/plain": [
       "0    2001-06-30\n",
       "1    2006/06/22\n",
       "dtype: object"
      ]
     },
     "execution_count": 12,
     "metadata": {},
     "output_type": "execute_result"
    }
   ],
   "source": [
    "times"
   ]
  },
  {
   "cell_type": "code",
   "execution_count": 13,
   "id": "cd10c67e",
   "metadata": {},
   "outputs": [
    {
     "data": {
      "text/plain": [
       "0   2001-06-30\n",
       "1   2006-06-22\n",
       "dtype: datetime64[ns]"
      ]
     },
     "execution_count": 13,
     "metadata": {},
     "output_type": "execute_result"
    }
   ],
   "source": [
    "pd.to_datetime(times)"
   ]
  },
  {
   "cell_type": "code",
   "execution_count": 14,
   "id": "10dcf74b",
   "metadata": {},
   "outputs": [
    {
     "data": {
      "text/plain": [
       "DatetimeIndex(['2016-01-30', '2016-01-31', '2016-02-01', '2016-02-02',\n",
       "               '2016-02-03', '2016-02-04', '2016-02-05'],\n",
       "              dtype='datetime64[ns]', freq='D')"
      ]
     },
     "execution_count": 14,
     "metadata": {},
     "output_type": "execute_result"
    }
   ],
   "source": [
    "pd.date_range(start = \"2016-01-30\", end = \"2016-02-05\", freq = \"D\")"
   ]
  },
  {
   "cell_type": "code",
   "execution_count": 17,
   "id": "c0af9542",
   "metadata": {},
   "outputs": [
    {
     "data": {
      "text/plain": [
       "0    2023-04-04\n",
       "1    2023-04-05\n",
       "2    2023-04-06\n",
       "3    2023-04-07\n",
       "4    2023-04-10\n",
       "5    2023-04-11\n",
       "6    2023-04-12\n",
       "7    2023-04-13\n",
       "8    2023-04-14\n",
       "9    2023-04-17\n",
       "10   2023-04-18\n",
       "11   2023-04-19\n",
       "12   2023-04-20\n",
       "13   2023-04-21\n",
       "14   2023-04-24\n",
       "15   2023-04-25\n",
       "16   2023-04-26\n",
       "17   2023-04-27\n",
       "18   2023-04-28\n",
       "19   2023-05-01\n",
       "dtype: datetime64[ns]"
      ]
     },
     "execution_count": 17,
     "metadata": {},
     "output_type": "execute_result"
    }
   ],
   "source": [
    "bunch_of_dates = pd.date_range(end = \"2023,05,05\", periods = 20, freq= \"B\")\n",
    "pd.Series(bunch_of_dates)"
   ]
  },
  {
   "cell_type": "code",
   "execution_count": 18,
   "id": "e6a2f2e2",
   "metadata": {},
   "outputs": [
    {
     "data": {
      "text/plain": [
       "0   2023-04-04\n",
       "1   2023-04-05\n",
       "2   2023-04-06\n",
       "3   2023-04-07\n",
       "4   2023-04-10\n",
       "dtype: datetime64[ns]"
      ]
     },
     "execution_count": 18,
     "metadata": {},
     "output_type": "execute_result"
    }
   ],
   "source": [
    "s = pd.Series(bunch_of_dates)\n",
    "s.head()"
   ]
  },
  {
   "cell_type": "code",
   "execution_count": 21,
   "id": "04c62bf9",
   "metadata": {},
   "outputs": [
    {
     "data": {
      "text/plain": [
       "0      4\n",
       "1      5\n",
       "2      6\n",
       "3      7\n",
       "4     10\n",
       "5     11\n",
       "6     12\n",
       "7     13\n",
       "8     14\n",
       "9     17\n",
       "10    18\n",
       "11    19\n",
       "12    20\n",
       "13    21\n",
       "14    24\n",
       "15    25\n",
       "16    26\n",
       "17    27\n",
       "18    28\n",
       "19     1\n",
       "dtype: int64"
      ]
     },
     "execution_count": 21,
     "metadata": {},
     "output_type": "execute_result"
    }
   ],
   "source": [
    "s.dt.day\n"
   ]
  },
  {
   "cell_type": "code",
   "execution_count": null,
   "id": "809d28d2",
   "metadata": {},
   "outputs": [],
   "source": []
  },
  {
   "cell_type": "code",
   "execution_count": null,
   "id": "7ca61e43",
   "metadata": {},
   "outputs": [],
   "source": []
  },
  {
   "cell_type": "code",
   "execution_count": null,
   "id": "067c0c02",
   "metadata": {},
   "outputs": [],
   "source": []
  },
  {
   "cell_type": "code",
   "execution_count": null,
   "id": "76325f04",
   "metadata": {},
   "outputs": [],
   "source": []
  },
  {
   "cell_type": "code",
   "execution_count": null,
   "id": "059b5ea5",
   "metadata": {},
   "outputs": [],
   "source": []
  },
  {
   "cell_type": "code",
   "execution_count": null,
   "id": "290299b5",
   "metadata": {},
   "outputs": [],
   "source": []
  },
  {
   "cell_type": "code",
   "execution_count": null,
   "id": "961f3385",
   "metadata": {},
   "outputs": [],
   "source": []
  },
  {
   "cell_type": "code",
   "execution_count": null,
   "id": "56677ad7",
   "metadata": {},
   "outputs": [],
   "source": []
  },
  {
   "cell_type": "code",
   "execution_count": null,
   "id": "6dfdf2aa",
   "metadata": {},
   "outputs": [],
   "source": []
  },
  {
   "cell_type": "code",
   "execution_count": null,
   "id": "6698cf8f",
   "metadata": {},
   "outputs": [],
   "source": []
  }
 ],
 "metadata": {
  "kernelspec": {
   "display_name": "Python 3 (ipykernel)",
   "language": "python",
   "name": "python3"
  },
  "language_info": {
   "codemirror_mode": {
    "name": "ipython",
    "version": 3
   },
   "file_extension": ".py",
   "mimetype": "text/x-python",
   "name": "python",
   "nbconvert_exporter": "python",
   "pygments_lexer": "ipython3",
   "version": "3.11.3"
  }
 },
 "nbformat": 4,
 "nbformat_minor": 5
}
